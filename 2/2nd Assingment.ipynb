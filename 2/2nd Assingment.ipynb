{
 "cells": [
  {
   "cell_type": "markdown",
   "id": "a35b7734",
   "metadata": {},
   "source": [
    "# Assingment\n",
    "\n",
    "In the assingments the output of expected output of your codes has been given all that is left for you to do is to type in your codes and make sure that the outputs tally with the expected output"
   ]
  },
  {
   "cell_type": "markdown",
   "id": "68ebffe8",
   "metadata": {},
   "source": [
    "## Interest Calculator\n",
    "\n",
    "Suppose you have $100, which you can invest with a 10% return each year. After one year, it's (100 * 1.1 = 110) dollars, and after two years it's (100 * 1.1 * 1.1 = 121 ) dollars. Write a code to calculate how much money you end up with after 7 years, and print the result."
   ]
  },
  {
   "cell_type": "code",
   "execution_count": 1,
   "id": "9c44927c",
   "metadata": {},
   "outputs": [
    {
     "name": "stdout",
     "output_type": "stream",
     "text": [
      "194.87171000000012\n"
     ]
    }
   ],
   "source": []
  },
  {
   "cell_type": "markdown",
   "id": "3f788a9b",
   "metadata": {},
   "source": [
    "###### Carry out the above operations using only variables"
   ]
  },
  {
   "cell_type": "code",
   "execution_count": 1,
   "id": "35e37c25",
   "metadata": {},
   "outputs": [
    {
     "name": "stdout",
     "output_type": "stream",
     "text": [
      "194.87171000000012\n"
     ]
    }
   ],
   "source": []
  },
  {
   "cell_type": "code",
   "execution_count": null,
   "id": "0699985e",
   "metadata": {},
   "outputs": [],
   "source": []
  }
 ],
 "metadata": {
  "kernelspec": {
   "display_name": "Python 3",
   "language": "python",
   "name": "python3"
  },
  "language_info": {
   "codemirror_mode": {
    "name": "ipython",
    "version": 3
   },
   "file_extension": ".py",
   "mimetype": "text/x-python",
   "name": "python",
   "nbconvert_exporter": "python",
   "pygments_lexer": "ipython3",
   "version": "3.8.8"
  }
 },
 "nbformat": 4,
 "nbformat_minor": 5
}
