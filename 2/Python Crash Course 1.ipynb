{
 "cells": [
  {
   "cell_type": "markdown",
   "id": "4e007f90",
   "metadata": {},
   "source": [
    "# Hello World!"
   ]
  },
  {
   "cell_type": "markdown",
   "id": "1ef88214",
   "metadata": {},
   "source": [
    "In Programing the first thing usually taught is how to print out Hello World! to the screen, so lets do that."
   ]
  },
  {
   "cell_type": "code",
   "execution_count": 1,
   "id": "58363a72",
   "metadata": {},
   "outputs": [
    {
     "name": "stdout",
     "output_type": "stream",
     "text": [
      "Hello World!\n"
     ]
    }
   ],
   "source": [
    "print(\"Hello World!\")"
   ]
  },
  {
   "cell_type": "markdown",
   "id": "2c4615cb",
   "metadata": {},
   "source": [
    "### Comments\n",
    "\n",
    "In programming comments are used to explain what a line of code does. This increases readability both for the programmer and a stranger comming to read the code for the first time."
   ]
  },
  {
   "cell_type": "code",
   "execution_count": 2,
   "id": "2bf5343e",
   "metadata": {},
   "outputs": [],
   "source": [
    "# This is a Comment"
   ]
  },
  {
   "cell_type": "markdown",
   "id": "71d725f8",
   "metadata": {},
   "source": [
    "### Arithmetics in Python"
   ]
  },
  {
   "cell_type": "markdown",
   "id": "0361c704",
   "metadata": {},
   "source": [
    "To perform arithmetic operations in python we use aritnmetic operators for this purposes. The aritmetic operators are Addition(+), Subtraction(-), Multiplication( * ), Division(/), Modululs(%), Exponent( ** )"
   ]
  },
  {
   "cell_type": "code",
   "execution_count": 3,
   "id": "f9c0c948",
   "metadata": {},
   "outputs": [
    {
     "data": {
      "text/plain": [
       "10"
      ]
     },
     "execution_count": 3,
     "metadata": {},
     "output_type": "execute_result"
    }
   ],
   "source": [
    "5 + 5"
   ]
  },
  {
   "cell_type": "code",
   "execution_count": 4,
   "id": "670ee93c",
   "metadata": {},
   "outputs": [
    {
     "data": {
      "text/plain": [
       "5"
      ]
     },
     "execution_count": 4,
     "metadata": {},
     "output_type": "execute_result"
    }
   ],
   "source": [
    "10 - 5"
   ]
  },
  {
   "cell_type": "code",
   "execution_count": 5,
   "id": "637b1147",
   "metadata": {},
   "outputs": [
    {
     "data": {
      "text/plain": [
       "15"
      ]
     },
     "execution_count": 5,
     "metadata": {},
     "output_type": "execute_result"
    }
   ],
   "source": [
    "3 * 5"
   ]
  },
  {
   "cell_type": "code",
   "execution_count": 6,
   "id": "4430a557",
   "metadata": {},
   "outputs": [
    {
     "data": {
      "text/plain": [
       "5.0"
      ]
     },
     "execution_count": 6,
     "metadata": {},
     "output_type": "execute_result"
    }
   ],
   "source": [
    "10 / 2"
   ]
  },
  {
   "cell_type": "code",
   "execution_count": 7,
   "id": "b904864f",
   "metadata": {},
   "outputs": [
    {
     "data": {
      "text/plain": [
       "4"
      ]
     },
     "execution_count": 7,
     "metadata": {},
     "output_type": "execute_result"
    }
   ],
   "source": [
    "18 % 7"
   ]
  },
  {
   "cell_type": "code",
   "execution_count": 8,
   "id": "907de39b",
   "metadata": {},
   "outputs": [
    {
     "data": {
      "text/plain": [
       "16"
      ]
     },
     "execution_count": 8,
     "metadata": {},
     "output_type": "execute_result"
    }
   ],
   "source": [
    "4 ** 2"
   ]
  },
  {
   "cell_type": "markdown",
   "id": "48f55ba3",
   "metadata": {},
   "source": [
    "### Variable Assingments\n",
    "\n",
    "To assign a variable in python all we have to do is to type the variable name and give it a value. For example:"
   ]
  },
  {
   "cell_type": "code",
   "execution_count": 9,
   "id": "48971036",
   "metadata": {},
   "outputs": [],
   "source": [
    "x = 5"
   ]
  },
  {
   "cell_type": "code",
   "execution_count": 10,
   "id": "1753e8fc",
   "metadata": {},
   "outputs": [
    {
     "name": "stdout",
     "output_type": "stream",
     "text": [
      "5\n"
     ]
    }
   ],
   "source": [
    "print(x)"
   ]
  },
  {
   "cell_type": "markdown",
   "id": "159cdd8d",
   "metadata": {},
   "source": [
    "Variables can be used to perform math operations in place of numbers. For example:"
   ]
  },
  {
   "cell_type": "code",
   "execution_count": 11,
   "id": "11a41dd9",
   "metadata": {},
   "outputs": [
    {
     "name": "stdout",
     "output_type": "stream",
     "text": [
      "20\n"
     ]
    }
   ],
   "source": [
    "num = 10\n",
    "mul = 2\n",
    "\n",
    "print(num * mul)"
   ]
  },
  {
   "cell_type": "markdown",
   "id": "a32f0f8f",
   "metadata": {},
   "source": [
    "### Data Types\n",
    "\n",
    "Their are several data types in python. Examples are:"
   ]
  },
  {
   "cell_type": "code",
   "execution_count": 12,
   "id": "501166a0",
   "metadata": {},
   "outputs": [],
   "source": [
    "type1 = 100 # Integer\n",
    "type2 = 1.1 # Float\n",
    "type3 = \"COLPHYS\" # Strings\n",
    "type4 = True # boolean 1\n",
    "type5 = False # boolean 2"
   ]
  },
  {
   "cell_type": "markdown",
   "id": "cea7ff94",
   "metadata": {},
   "source": [
    "In python you can check the data type of an already defined variable by just using the function \"type\""
   ]
  },
  {
   "cell_type": "code",
   "execution_count": 13,
   "id": "aadff58e",
   "metadata": {},
   "outputs": [
    {
     "data": {
      "text/plain": [
       "bool"
      ]
     },
     "execution_count": 13,
     "metadata": {},
     "output_type": "execute_result"
    }
   ],
   "source": [
    "type(type4)"
   ]
  },
  {
   "cell_type": "markdown",
   "id": "55a0b09f",
   "metadata": {},
   "source": [
    "Just as operation can be performed on numbers in Python we can also perform addition on strings also. This is called concatenation."
   ]
  },
  {
   "cell_type": "code",
   "execution_count": 14,
   "id": "41f0aff1",
   "metadata": {},
   "outputs": [],
   "source": [
    "string1 = \"COLPHYS & \"\n",
    "string2 = \"CCTI\"\n",
    "\n",
    "result = string1 + string2"
   ]
  },
  {
   "cell_type": "code",
   "execution_count": 15,
   "id": "abb1f032",
   "metadata": {},
   "outputs": [
    {
     "name": "stdout",
     "output_type": "stream",
     "text": [
      "COLPHYS & CCTI\n"
     ]
    }
   ],
   "source": [
    "print(result)"
   ]
  },
  {
   "cell_type": "markdown",
   "id": "65373bbc",
   "metadata": {},
   "source": [
    "In Python it is possible to change the data type of a particular variable using functions like.\n",
    "\n",
    "* str()\n",
    "* float()\n",
    "* int()\n",
    "* bool()"
   ]
  },
  {
   "cell_type": "markdown",
   "id": "bf2630e8",
   "metadata": {},
   "source": [
    "### Python Lists"
   ]
  },
  {
   "cell_type": "markdown",
   "id": "eed0c2d2",
   "metadata": {},
   "source": [
    "In programming a list is an example of what we call a complex data type."
   ]
  },
  {
   "cell_type": "code",
   "execution_count": 16,
   "id": "47b6d928",
   "metadata": {},
   "outputs": [],
   "source": [
    "a = \"is\"\n",
    "b = \"nice\"\n",
    "my_list = [\"my\", \"list\", a, b]"
   ]
  },
  {
   "cell_type": "code",
   "execution_count": 17,
   "id": "a483467f",
   "metadata": {},
   "outputs": [
    {
     "data": {
      "text/plain": [
       "['my', 'list', 'is', 'nice']"
      ]
     },
     "execution_count": 17,
     "metadata": {},
     "output_type": "execute_result"
    }
   ],
   "source": [
    "my_list"
   ]
  },
  {
   "cell_type": "markdown",
   "id": "a2fb26b8",
   "metadata": {},
   "source": [
    "A python list can contain more than one data type"
   ]
  },
  {
   "cell_type": "code",
   "execution_count": 18,
   "id": "fe7d4fc1",
   "metadata": {},
   "outputs": [
    {
     "data": {
      "text/plain": [
       "[1.0, 2.0, 3.0, 'One', 'Two', 'Three']"
      ]
     },
     "execution_count": 18,
     "metadata": {},
     "output_type": "execute_result"
    }
   ],
   "source": [
    "one = 1.0\n",
    "two = 2.0\n",
    "three = 3.0\n",
    "numbers = [one, two, three, \"One\", \"Two\", \"Three\"]\n",
    "numbers"
   ]
  },
  {
   "cell_type": "code",
   "execution_count": 19,
   "id": "ae952e3e",
   "metadata": {},
   "outputs": [
    {
     "data": {
      "text/plain": [
       "[[1, 2, 3, 4, 5],\n",
       " ['one', 'two', 'three', 'four', 'five'],\n",
       " [1.0, 2.0, 3.0, 4.0, 5.0]]"
      ]
     },
     "execution_count": 19,
     "metadata": {},
     "output_type": "execute_result"
    }
   ],
   "source": [
    "# Also a list can also contain a list in python\n",
    "\n",
    "a = [1, 2, 3, 4, 5]\n",
    "b = [\"one\", \"two\", \"three\", \"four\", \"five\"]\n",
    "c = [1.0, 2.0, 3.0, 4.0, 5.0]\n",
    "\n",
    "list1 = [a, b, c]\n",
    "list1"
   ]
  },
  {
   "cell_type": "code",
   "execution_count": 21,
   "id": "9509749e",
   "metadata": {},
   "outputs": [],
   "source": [
    "# List Indexing and Arithmetics with indexed lists to be explained in class\n",
    "\n",
    "# Indexing of list inside of a list to be Explained in class"
   ]
  },
  {
   "cell_type": "code",
   "execution_count": 27,
   "id": "c9a4a7ae",
   "metadata": {},
   "outputs": [
    {
     "name": "stdout",
     "output_type": "stream",
     "text": [
      "[1.0, 2.0, 3.0, 'One', 'Two', 'Three']\n",
      "[1.0, 2.0, 3.0, 'One', 'Two']\n",
      "[1.0, 2.0, 3.0, 'One', 'Two']\n"
     ]
    }
   ],
   "source": [
    "# List Slicing\n",
    "\n",
    "print(numbers[0:])\n",
    "print(numbers[0:5])\n",
    "print(numbers[:5])"
   ]
  },
  {
   "cell_type": "code",
   "execution_count": 28,
   "id": "caad643e",
   "metadata": {},
   "outputs": [
    {
     "name": "stdout",
     "output_type": "stream",
     "text": [
      "[1.0, 2.0, 3.0, 'One', 'Two', 'Three']\n"
     ]
    }
   ],
   "source": [
    "print(numbers[:])"
   ]
  },
  {
   "cell_type": "code",
   "execution_count": 29,
   "id": "24525044",
   "metadata": {},
   "outputs": [
    {
     "name": "stdout",
     "output_type": "stream",
     "text": [
      "[1.0, 2.0, 3.0, 'One', 'Two', 'three']\n"
     ]
    }
   ],
   "source": [
    "# Changing values in a list\n",
    "\n",
    "# Using the numbers list\n",
    "numbers[-1] = \"three\"\n",
    "print(numbers)"
   ]
  },
  {
   "cell_type": "code",
   "execution_count": 30,
   "id": "5d6c33d7",
   "metadata": {},
   "outputs": [
    {
     "name": "stdout",
     "output_type": "stream",
     "text": [
      "[1.0, 2.0, 3.0, 'One', 'Two', 'three', 'Four', 'Five']\n"
     ]
    }
   ],
   "source": [
    "# Appending elements to a list\n",
    "\n",
    "numbers1 = numbers + [\"Four\", \"Five\"]\n",
    "\n",
    "print(numbers1)"
   ]
  },
  {
   "cell_type": "code",
   "execution_count": 33,
   "id": "ff03d860",
   "metadata": {},
   "outputs": [
    {
     "name": "stdout",
     "output_type": "stream",
     "text": [
      "[1.0, 2.0, 3.0, 'One', 'Two', 'three', 'Five']\n"
     ]
    }
   ],
   "source": [
    "# Deleting elements in a list\n",
    "\n",
    "del(numbers1[-2])\n",
    "\n",
    "print(numbers1)"
   ]
  }
 ],
 "metadata": {
  "kernelspec": {
   "display_name": "Python 3",
   "language": "python",
   "name": "python3"
  },
  "language_info": {
   "codemirror_mode": {
    "name": "ipython",
    "version": 3
   },
   "file_extension": ".py",
   "mimetype": "text/x-python",
   "name": "python",
   "nbconvert_exporter": "python",
   "pygments_lexer": "ipython3",
   "version": "3.8.8"
  }
 },
 "nbformat": 4,
 "nbformat_minor": 5
}
