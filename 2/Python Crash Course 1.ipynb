{
 "cells": [
  {
   "cell_type": "markdown",
   "id": "4e007f90",
   "metadata": {},
   "source": [
    "# Hello World!"
   ]
  },
  {
   "cell_type": "markdown",
   "id": "1ef88214",
   "metadata": {},
   "source": [
    "In Programing the first thing usually taught is how to print out Hello World! to the screen, so lets do that."
   ]
  },
  {
   "cell_type": "code",
   "execution_count": 1,
   "id": "58363a72",
   "metadata": {},
   "outputs": [
    {
     "name": "stdout",
     "output_type": "stream",
     "text": [
      "Hello World!\n"
     ]
    }
   ],
   "source": [
    "print(\"Hello World!\")"
   ]
  },
  {
   "cell_type": "markdown",
   "id": "2c4615cb",
   "metadata": {},
   "source": [
    "### Comments\n",
    "\n",
    "In programming comments are used to explain what a line of code does. This increases readability both for the programmer and a stranger comming to read the code for the first time."
   ]
  },
  {
   "cell_type": "code",
   "execution_count": 2,
   "id": "2bf5343e",
   "metadata": {},
   "outputs": [],
   "source": [
    "# This is a Comment"
   ]
  },
  {
   "cell_type": "markdown",
   "id": "71d725f8",
   "metadata": {},
   "source": [
    "### Arithmetics in Python"
   ]
  },
  {
   "cell_type": "markdown",
   "id": "0361c704",
   "metadata": {},
   "source": [
    "To perform arithmetic operations in python we use aritnmetic operators for this purposes. The aritmetic operators are Addition(+), Subtraction(-), Multiplication( * ), Division(/), Modululs(%), Exponent( ** )"
   ]
  },
  {
   "cell_type": "code",
   "execution_count": 3,
   "id": "f9c0c948",
   "metadata": {},
   "outputs": [
    {
     "data": {
      "text/plain": [
       "10"
      ]
     },
     "execution_count": 3,
     "metadata": {},
     "output_type": "execute_result"
    }
   ],
   "source": [
    "5 + 5"
   ]
  },
  {
   "cell_type": "code",
   "execution_count": 4,
   "id": "670ee93c",
   "metadata": {},
   "outputs": [
    {
     "data": {
      "text/plain": [
       "5"
      ]
     },
     "execution_count": 4,
     "metadata": {},
     "output_type": "execute_result"
    }
   ],
   "source": [
    "10 - 5"
   ]
  },
  {
   "cell_type": "code",
   "execution_count": 5,
   "id": "637b1147",
   "metadata": {},
   "outputs": [
    {
     "data": {
      "text/plain": [
       "15"
      ]
     },
     "execution_count": 5,
     "metadata": {},
     "output_type": "execute_result"
    }
   ],
   "source": [
    "3 * 5"
   ]
  },
  {
   "cell_type": "code",
   "execution_count": 6,
   "id": "4430a557",
   "metadata": {},
   "outputs": [
    {
     "data": {
      "text/plain": [
       "5.0"
      ]
     },
     "execution_count": 6,
     "metadata": {},
     "output_type": "execute_result"
    }
   ],
   "source": [
    "10 / 2"
   ]
  },
  {
   "cell_type": "code",
   "execution_count": 7,
   "id": "b904864f",
   "metadata": {},
   "outputs": [
    {
     "data": {
      "text/plain": [
       "4"
      ]
     },
     "execution_count": 7,
     "metadata": {},
     "output_type": "execute_result"
    }
   ],
   "source": [
    "18 % 7"
   ]
  },
  {
   "cell_type": "code",
   "execution_count": 8,
   "id": "907de39b",
   "metadata": {},
   "outputs": [
    {
     "data": {
      "text/plain": [
       "16"
      ]
     },
     "execution_count": 8,
     "metadata": {},
     "output_type": "execute_result"
    }
   ],
   "source": [
    "4 ** 2"
   ]
  },
  {
   "cell_type": "markdown",
   "id": "48f55ba3",
   "metadata": {},
   "source": [
    "### Variable Assingments\n",
    "\n",
    "To assign a variable in python all we have to do is to type the variable name and give it a value. For example:"
   ]
  },
  {
   "cell_type": "code",
   "execution_count": 9,
   "id": "48971036",
   "metadata": {},
   "outputs": [],
   "source": [
    "x = 5"
   ]
  },
  {
   "cell_type": "code",
   "execution_count": 10,
   "id": "1753e8fc",
   "metadata": {},
   "outputs": [
    {
     "name": "stdout",
     "output_type": "stream",
     "text": [
      "5\n"
     ]
    }
   ],
   "source": [
    "print(x)"
   ]
  },
  {
   "cell_type": "markdown",
   "id": "159cdd8d",
   "metadata": {},
   "source": [
    "Variables can be used to perform math operations in place of numbers. For example:"
   ]
  },
  {
   "cell_type": "code",
   "execution_count": 11,
   "id": "11a41dd9",
   "metadata": {},
   "outputs": [
    {
     "name": "stdout",
     "output_type": "stream",
     "text": [
      "20\n"
     ]
    }
   ],
   "source": [
    "num = 10\n",
    "mul = 2\n",
    "\n",
    "print(num * mul)"
   ]
  },
  {
   "cell_type": "markdown",
   "id": "a32f0f8f",
   "metadata": {},
   "source": [
    "### Data Types\n",
    "\n",
    "Their are several data types in python. Examples are:"
   ]
  },
  {
   "cell_type": "code",
   "execution_count": 12,
   "id": "501166a0",
   "metadata": {},
   "outputs": [],
   "source": [
    "type1 = 100 # Integer\n",
    "type2 = 1.1 # Float\n",
    "type3 = \"COLPHYS\" # Strings\n",
    "type4 = True # boolean 1\n",
    "type5 = False # boolean 2"
   ]
  },
  {
   "cell_type": "markdown",
   "id": "cea7ff94",
   "metadata": {},
   "source": [
    "In python you can check the data type of an already defined variable by just using the function \"type\""
   ]
  },
  {
   "cell_type": "code",
   "execution_count": 13,
   "id": "aadff58e",
   "metadata": {},
   "outputs": [
    {
     "data": {
      "text/plain": [
       "bool"
      ]
     },
     "execution_count": 13,
     "metadata": {},
     "output_type": "execute_result"
    }
   ],
   "source": [
    "type(type4)"
   ]
  },
  {
   "cell_type": "markdown",
   "id": "55a0b09f",
   "metadata": {},
   "source": [
    "Just as operation can be performed on numbers in Python we can also perform addition on strings also. This is called concatenation."
   ]
  },
  {
   "cell_type": "code",
   "execution_count": 14,
   "id": "41f0aff1",
   "metadata": {},
   "outputs": [],
   "source": [
    "string1 = \"COLPHYS & \"\n",
    "string2 = \"CCTI\"\n",
    "\n",
    "result = string1 + string2"
   ]
  },
  {
   "cell_type": "code",
   "execution_count": 15,
   "id": "abb1f032",
   "metadata": {},
   "outputs": [
    {
     "name": "stdout",
     "output_type": "stream",
     "text": [
      "COLPHYS & CCTI\n"
     ]
    }
   ],
   "source": [
    "print(result)"
   ]
  },
  {
   "cell_type": "code",
   "execution_count": null,
   "id": "e9ee7896",
   "metadata": {},
   "outputs": [],
   "source": []
  }
 ],
 "metadata": {
  "kernelspec": {
   "display_name": "Python 3",
   "language": "python",
   "name": "python3"
  },
  "language_info": {
   "codemirror_mode": {
    "name": "ipython",
    "version": 3
   },
   "file_extension": ".py",
   "mimetype": "text/x-python",
   "name": "python",
   "nbconvert_exporter": "python",
   "pygments_lexer": "ipython3",
   "version": "3.8.8"
  }
 },
 "nbformat": 4,
 "nbformat_minor": 5
}
