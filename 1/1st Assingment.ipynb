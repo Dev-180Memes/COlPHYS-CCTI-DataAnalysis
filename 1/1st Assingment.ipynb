{
 "cells": [
  {
   "cell_type": "markdown",
   "id": "62b501cd",
   "metadata": {},
   "source": [
    "# Create a Github Repository where you will push all Projects and Assingments.\n",
    "\n",
    "Send the link to this repository to the Telegram Group"
   ]
  }
 ],
 "metadata": {
  "kernelspec": {
   "display_name": "Python 3",
   "language": "python",
   "name": "python3"
  },
  "language_info": {
   "codemirror_mode": {
    "name": "ipython",
    "version": 3
   },
   "file_extension": ".py",
   "mimetype": "text/x-python",
   "name": "python",
   "nbconvert_exporter": "python",
   "pygments_lexer": "ipython3",
   "version": "3.8.8"
  }
 },
 "nbformat": 4,
 "nbformat_minor": 5
}
