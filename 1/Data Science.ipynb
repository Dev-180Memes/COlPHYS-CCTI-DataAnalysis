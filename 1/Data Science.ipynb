{
 "cells": [
  {
   "cell_type": "markdown",
   "id": "028aba3a",
   "metadata": {},
   "source": [
    "## What is Data Science"
   ]
  },
  {
   "cell_type": "markdown",
   "id": "1ed783bd",
   "metadata": {},
   "source": [
    "Data Science is a field that deals with data and finding patterns among them hereby making meaningfull conclusions from the said data. Data Science is a wide field which ranges from as little as Data Analysis with Microsoft Excel to as complex as building Artificially Intelligent Systems. Platforms used for data science range from the very common Microsoft Excel, to the least common Julia.\n",
    "\n",
    "Programming Languages used for Data Sceince include:\n",
    "1. Python\n",
    "2. R\n",
    "3. Go Lang\n",
    "4. Javascript\n",
    "5. Julia,\n",
    "And More......."
   ]
  },
  {
   "cell_type": "markdown",
   "id": "1e2ca563",
   "metadata": {},
   "source": [
    "##### Fields in Data Science.\n",
    "The Fields of study in Data Science Include but are not limited to:\n",
    "\n",
    "1. Data Analysis\n",
    "2. Data Storytelling\n",
    "3. Data Engineering\n",
    "4. Data Security( Also a field in cyber security )\n",
    "5. Machine Learning/ Artificial Intelligence,\n",
    "And More............."
   ]
  },
  {
   "cell_type": "markdown",
   "id": "d733d390",
   "metadata": {},
   "source": [
    "### Data Analysis"
   ]
  },
  {
   "cell_type": "markdown",
   "id": "b9fffb27",
   "metadata": {},
   "source": [
    "Analytics is the discovery, interpretation, and communication of meaningful patterns in data."
   ]
  },
  {
   "cell_type": "markdown",
   "id": "38ebc882",
   "metadata": {},
   "source": [
    "With the process of analyzing raw data to find trends and finding the answer to questions, the definition of data analytics captures its broad scope. However, it includes many techniques with many different goals.\n",
    "\n",
    "In same line Data analysis is a process of inspecting, cleansing, transforming and modeling data with the goal of discovering useful information, developing insight and supporting decision-making.\n",
    "\n",
    "As mentioned Data Analytics has 4 key components. By combining these 4 key components one can undertake data analytics and will be able to provide a clear picture of where you are and how your business is doing; where you have been; and where you should go (what to focus on).\n",
    "\n",
    "Let’s examine the 4 key components.\n",
    "\n",
    "1. Descriptive analytics helps answer questions about what happened. It is the interpretation of historical data to better understand changes that have occurred in a business. Source: www.investopedia.com\n",
    "These techniques summarize large datasets to describe outcomes to stakeholders. By developing key performance indicators (KPIs,) these strategies can help track successes or failures. Metrics such as return on investment (ROI) are used in many industries. Specialized metrics are developed to track performance in specific industries. This process requires the collection of relevant data, processing of the data, data analysis and data visualization. This process provides essential insight into past performance.\n",
    "\n",
    " \n",
    "\n",
    "2. Diagnostic analytics helps answer questions about why things happened.\n",
    "Here we take the findings from descriptive analytics and dig deeper to find the cause. The performance indicators are further investigated to discover why they became better or worse.\n",
    "To achieve this, we first identify the anomalies in the data. These are the unexpected changes in a metric or a market. Secondly the data that is related to these anomalies is collected. And finally, Statistical techniques are used to find relationships and trends that explain these anomalies.\n",
    "\n",
    " \n",
    "\n",
    "3. Predictive analytics helps to answer questions about what will happen in the future. Or tries to answer unforeseen phenomena, what is likely to happen?\n",
    "These techniques use historical data to identify trends and determine if they are likely to recur. Here comes the most amazing and demanding tool and technique machine learning.\n",
    "\n",
    " \n",
    "\n",
    "4. Prescriptive analytics helps answer questions about what should be done.\n",
    "By using insights from predictive analytics, data-driven decisions can be made.\n",
    "Which is done using AI (Artificial Intelligence).\n",
    "\n",
    "Different forms of analytics may provide varying amounts of value to a business, they all have their place, but when combined will extract more value from your data."
   ]
  },
  {
   "cell_type": "markdown",
   "id": "1f90dbe8",
   "metadata": {},
   "source": [
    "### Python for Data Analysis"
   ]
  },
  {
   "cell_type": "markdown",
   "id": "bbfa83fa",
   "metadata": {},
   "source": [
    "Python is a multi purpose programming language used for different purposes ranging from Software Development, to Web Development, Cyber Security and Data Science.\n",
    "\n",
    "We are going to be using python's data science capabilities for the span of this course."
   ]
  },
  {
   "cell_type": "markdown",
   "id": "5994a676",
   "metadata": {},
   "source": [
    "Their are several libraries for data science with python. A few of them include numpy, pandas, scikit-learn, tensorflow, matplotlib, seaborns, plotly and many more.\n",
    "\n",
    "For the sake of this course we will be using numpy, pandas, matplotlib, and seaborns."
   ]
  }
 ],
 "metadata": {
  "kernelspec": {
   "display_name": "Python 3",
   "language": "python",
   "name": "python3"
  },
  "language_info": {
   "codemirror_mode": {
    "name": "ipython",
    "version": 3
   },
   "file_extension": ".py",
   "mimetype": "text/x-python",
   "name": "python",
   "nbconvert_exporter": "python",
   "pygments_lexer": "ipython3",
   "version": "3.8.8"
  }
 },
 "nbformat": 4,
 "nbformat_minor": 5
}
